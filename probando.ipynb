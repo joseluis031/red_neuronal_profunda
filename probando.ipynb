{
 "cells": [
  {
   "cell_type": "code",
   "execution_count": null,
   "metadata": {},
   "outputs": [],
   "source": []
  },
  {
   "cell_type": "code",
   "execution_count": 1,
   "metadata": {},
   "outputs": [
    {
     "name": "stdout",
     "output_type": "stream",
     "text": [
      "Epoch [10/100], Loss: 9.2685\n",
      "Epoch [20/100], Loss: 8.3700\n",
      "Epoch [30/100], Loss: 7.6131\n",
      "Epoch [40/100], Loss: 6.9821\n",
      "Epoch [50/100], Loss: 6.4600\n",
      "Epoch [60/100], Loss: 6.0247\n",
      "Epoch [70/100], Loss: 5.6629\n",
      "Epoch [80/100], Loss: 5.3534\n",
      "Epoch [90/100], Loss: 5.0845\n",
      "Epoch [100/100], Loss: 4.8495\n"
     ]
    }
   ],
   "source": [
    "import pandas as pd\n",
    "from sklearn.model_selection import train_test_split\n",
    "from sklearn.preprocessing import LabelEncoder\n",
    "\n",
    "# Lee el CSV\n",
    "df = pd.read_csv('CSVS/temp2023_24.csv')\n",
    "\n",
    "# Codificación de variables categóricas\n",
    "label_encoder = LabelEncoder()\n",
    "df['equipo_local'] = label_encoder.fit_transform(df['equipo_local'])\n",
    "df['equipo_visitante'] = label_encoder.transform(df['equipo_visitante'])\n",
    "df['fase'] = label_encoder.fit_transform(df['fase'])\n",
    "\n",
    "# Divide los datos en conjuntos de entrenamiento y prueba\n",
    "train_data, test_data = train_test_split(df, test_size=0.2, random_state=42)\n",
    "\n",
    "\n",
    "import torch\n",
    "import torch.nn as nn\n",
    "\n",
    "class PredictorModel(nn.Module):\n",
    "    def __init__(self, input_size, hidden_size, output_size):\n",
    "        super(PredictorModel, self).__init__()\n",
    "        self.fc1 = nn.Linear(input_size, hidden_size)\n",
    "        self.relu = nn.ReLU()\n",
    "        self.fc2 = nn.Linear(hidden_size, output_size)\n",
    "\n",
    "    def forward(self, x):\n",
    "        out = self.fc1(x)\n",
    "        out = self.relu(out)\n",
    "        out = self.fc2(out)\n",
    "        return out\n",
    "\n",
    "input_size = 3\n",
    "hidden_size = 5\n",
    "output_size = 2  # Salida para goles_equipo_local y goles_equipo_visitante\n",
    "\n",
    "model = PredictorModel(input_size, hidden_size, output_size)\n",
    "\n",
    "\n",
    "criterion = nn.MSELoss()  # Puedes ajustar la función de pérdida según tu problema\n",
    "optimizer = torch.optim.Adam(model.parameters(), lr=0.001)  # Puedes ajustar la tasa de aprendizaje\n",
    "\n",
    "# Entrenamiento del modelo\n",
    "num_epochs = 100  # Puedes ajustar el número de épocas\n",
    "for epoch in range(num_epochs):\n",
    "    inputs = torch.tensor(train_data[['fase', 'equipo_local', 'equipo_visitante']].values, dtype=torch.float32)\n",
    "    labels = torch.tensor(train_data[['goles_equipo_local', 'goles_equipo_visitante']].values, dtype=torch.float32)\n",
    "\n",
    "    optimizer.zero_grad()\n",
    "    outputs = model(inputs)\n",
    "    loss = criterion(outputs, labels)\n",
    "    loss.backward()\n",
    "    optimizer.step()\n",
    "\n",
    "    if (epoch+1) % 10 == 0:\n",
    "        print(f'Epoch [{epoch+1}/{num_epochs}], Loss: {loss.item():.4f}')\n",
    "\n",
    "\n",
    "# Predicciones en el conjunto de prueba\n",
    "with torch.no_grad():\n",
    "    test_inputs = torch.tensor(test_data[['fase', 'equipo_local', 'equipo_visitante']].values, dtype=torch.float32)\n",
    "    predictions = model(test_inputs).numpy()\n",
    "\n",
    "# Convierte las predicciones a un DataFrame de pandas y descodifica las variables categóricas si es necesario\n",
    "predictions_df = pd.DataFrame(predictions, columns=['goles_equipo_local', 'goles_equipo_visitante'])\n",
    "\n"
   ]
  },
  {
   "cell_type": "markdown",
   "metadata": {},
   "source": [
    "Disminuye pero es muy alta"
   ]
  }
 ],
 "metadata": {
  "kernelspec": {
   "display_name": "Python 3",
   "language": "python",
   "name": "python3"
  },
  "language_info": {
   "codemirror_mode": {
    "name": "ipython",
    "version": 3
   },
   "file_extension": ".py",
   "mimetype": "text/x-python",
   "name": "python",
   "nbconvert_exporter": "python",
   "pygments_lexer": "ipython3",
   "version": "3.10.0"
  }
 },
 "nbformat": 4,
 "nbformat_minor": 2
}
