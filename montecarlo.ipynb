{
 "cells": [
  {
   "cell_type": "markdown",
   "metadata": {},
   "source": [
    "MONTECARLO"
   ]
  },
  {
   "cell_type": "code",
   "execution_count": 1,
   "metadata": {},
   "outputs": [
    {
     "name": "stdout",
     "output_type": "stream",
     "text": [
      "Promedio de victorias: 51\n",
      "Desviación estándar de victorias: 3.5385166383669873\n",
      "Promedio de empates: 6\n",
      "Desviación estándar de empates: 2.4807055447997044\n",
      "Promedio de derrotas: 6\n",
      "Desviación estándar de derrotas: 2.812543332999511\n"
     ]
    }
   ],
   "source": [
    "import os\n",
    "import pandas as pd\n",
    "import numpy as np\n",
    "\n",
    "# Función para cargar todos los archivos CSV de una carpeta\n",
    "def cargar_datos_desde_carpeta(ruta_carpeta):\n",
    "    archivos_csv = [archivo for archivo in os.listdir(ruta_carpeta) if archivo.startswith('temp')]\n",
    "    dataframes = []\n",
    "    for archivo in archivos_csv:\n",
    "        ruta_completa = os.path.join(ruta_carpeta, archivo)\n",
    "        df = pd.read_csv(ruta_completa)\n",
    "        dataframes.append(df)\n",
    "    return pd.concat(dataframes, ignore_index=True)\n",
    "\n",
    "# Cargar los datos de partidos desde la carpeta\n",
    "ruta_carpeta_partidos = 'CSVS'\n",
    "partidos_df = cargar_datos_desde_carpeta(ruta_carpeta_partidos)\n",
    "\n",
    "\n",
    "\n",
    "# Filtrar solo los partidos del Real Madrid\n",
    "partidos_real_madrid_df = partidos_df[(partidos_df['equipo_local'] == 'Real Madrid') | (partidos_df['equipo_visitante'] == 'Real Madrid')]\n",
    "\n",
    "# Función para simular un partido\n",
    "def simular_partido():\n",
    "    # Supongamos que el Real Madrid tiene un 80% de probabilidad de ganar, 10% de empatar y 10% de perder un partido\n",
    "    resultado = np.random.choice(['victoria', 'empate', 'derrota'], p=[0.8, 0.1, 0.1])\n",
    "    return resultado\n",
    "\n",
    "# Simular 64 partidos\n",
    "num_simulaciones = 64\n",
    "victorias_simuladas = []\n",
    "empates_simulados = []\n",
    "derrotas_simuladas = []\n",
    "\n",
    "for _ in range(num_simulaciones):\n",
    "    victorias_temporada = 0\n",
    "    empates_temporada = 0\n",
    "    derrotas_temporada = 0\n",
    "    for _, partido in partidos_real_madrid_df.iterrows():\n",
    "        resultado = simular_partido()\n",
    "        if resultado == 'victoria' and (partido['equipo_local'] == 'Real Madrid' or partido['equipo_visitante'] == 'Real Madrid'):\n",
    "            victorias_temporada += 1\n",
    "        elif resultado == 'empate' and ('Real Madrid' in [partido['equipo_local'], partido['equipo_visitante']]):\n",
    "            empates_temporada += 1\n",
    "        elif resultado == 'derrota' and ('Real Madrid' in [partido['equipo_local'], partido['equipo_visitante']]):\n",
    "            derrotas_temporada += 1\n",
    "    victorias_simuladas.append(victorias_temporada)\n",
    "    empates_simulados.append(empates_temporada)\n",
    "    derrotas_simuladas.append(derrotas_temporada)\n",
    "\n",
    "# Calcular estadísticas de las simulaciones\n",
    "promedio_victorias = round(np.mean(victorias_simuladas))\n",
    "desviacion_estandar_victorias = (np.std(victorias_simuladas))\n",
    "\n",
    "promedio_empates = round(np.mean(empates_simulados))\n",
    "desviacion_estandar_empates = (np.std(empates_simulados))\n",
    "\n",
    "promedio_derrotas = round(np.mean(derrotas_simuladas))\n",
    "desviacion_estandar_derrotas = (np.std(derrotas_simuladas))\n",
    "\n",
    "\n",
    "\n",
    "print(\"Promedio de victorias:\", promedio_victorias)\n",
    "print(\"Desviación estándar de victorias:\", desviacion_estandar_victorias)\n",
    "\n",
    "print(\"Promedio de empates:\", promedio_empates)\n",
    "print(\"Desviación estándar de empates:\", desviacion_estandar_empates)\n",
    "\n",
    "print(\"Promedio de derrotas:\", promedio_derrotas)\n",
    "print(\"Desviación estándar de derrotas:\", desviacion_estandar_derrotas)\n"
   ]
  },
  {
   "cell_type": "markdown",
   "metadata": {},
   "source": [
    "Estos son los promedios de victorias, empates y derrotas del Real Madrid en una Temporada, siguiendo\n",
    "los resultados de las ultimas Champions"
   ]
  }
 ],
 "metadata": {
  "kernelspec": {
   "display_name": "Python 3",
   "language": "python",
   "name": "python3"
  },
  "language_info": {
   "codemirror_mode": {
    "name": "ipython",
    "version": 3
   },
   "file_extension": ".py",
   "mimetype": "text/x-python",
   "name": "python",
   "nbconvert_exporter": "python",
   "pygments_lexer": "ipython3",
   "version": "3.10.0"
  }
 },
 "nbformat": 4,
 "nbformat_minor": 2
}
